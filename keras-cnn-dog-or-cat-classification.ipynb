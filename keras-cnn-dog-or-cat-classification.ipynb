{
 "cells": [
  {
   "cell_type": "markdown",
   "metadata": {
    "_uuid": "fe76d1d1ded592430e7548feacfa38dc42f085d9"
   },
   "source": [
    "# Import Library"
   ]
  },
  {
   "cell_type": "code",
   "execution_count": 1,
   "metadata": {
    "_cell_guid": "b1076dfc-b9ad-4769-8c92-a6c4dae69d19",
    "_uuid": "8f2839f25d086af736a60e9eeb907d3b93b6e0e5"
   },
   "outputs": [
    {
     "name": "stderr",
     "output_type": "stream",
     "text": [
      "Using TensorFlow backend.\n"
     ]
    }
   ],
   "source": [
    "import numpy as np\n",
    "import pandas as pd \n",
    "from keras.preprocessing.image import ImageDataGenerator, load_img, image\n",
    "from keras.utils import to_categorical\n",
    "from keras.models import Sequential\n",
    "import os\n",
    "\n"
   ]
  },
  {
   "cell_type": "markdown",
   "metadata": {},
   "source": [
    "# Define Constants"
   ]
  },
  {
   "cell_type": "code",
   "execution_count": 2,
   "metadata": {},
   "outputs": [],
   "source": [
    "FAST_RUN = False\n",
    "IMAGE_WIDTH=128\n",
    "IMAGE_HEIGHT=128\n",
    "IMAGE_SIZE=(IMAGE_WIDTH, IMAGE_HEIGHT)\n",
    "IMAGE_CHANNELS=3"
   ]
  },
  {
   "cell_type": "markdown",
   "metadata": {},
   "source": [
    "# Define Model Architecture"
   ]
  },
  {
   "cell_type": "code",
   "execution_count": 4,
   "metadata": {},
   "outputs": [],
   "source": [
    "from keras.layers import Conv2D, MaxPooling2D, Dropout, Flatten, Dense, Activation, BatchNormalization\n",
    "\n",
    "def createModel() -> Sequential:\n",
    "    model = Sequential()\n",
    "\n",
    "    model.add(Conv2D(32, (3, 3), activation='relu', input_shape=(IMAGE_WIDTH, IMAGE_HEIGHT, IMAGE_CHANNELS)))\n",
    "    model.add(BatchNormalization())\n",
    "    model.add(MaxPooling2D(pool_size=(2, 2)))\n",
    "    model.add(Dropout(0.25))\n",
    "\n",
    "    model.add(Conv2D(64, (3, 3), activation='relu'))\n",
    "    model.add(BatchNormalization())\n",
    "    model.add(MaxPooling2D(pool_size=(2, 2)))\n",
    "    model.add(Dropout(0.25))\n",
    "\n",
    "    model.add(Conv2D(128, (3, 3), activation='relu'))\n",
    "    model.add(BatchNormalization())\n",
    "    model.add(MaxPooling2D(pool_size=(2, 2)))\n",
    "    model.add(Dropout(0.25))\n",
    "\n",
    "    model.add(Flatten())\n",
    "    model.add(Dense(512, activation='relu'))\n",
    "    model.add(BatchNormalization())\n",
    "    model.add(Dropout(0.5))\n",
    "    model.add(Dense(2, activation='softmax'))\n",
    "\n",
    "    model.compile(loss='categorical_crossentropy', optimizer='rmsprop', metrics=['accuracy'])\n",
    "    return model"
   ]
  },
  {
   "cell_type": "code",
   "execution_count": 5,
   "metadata": {
    "_uuid": "67575a4decdaf79a915d23151626b784ffa82642"
   },
   "outputs": [
    {
     "name": "stdout",
     "output_type": "stream",
     "text": [
      "WARNING:tensorflow:From /Library/Frameworks/Python.framework/Versions/3.7/lib/python3.7/site-packages/keras/backend/tensorflow_backend.py:4070: The name tf.nn.max_pool is deprecated. Please use tf.nn.max_pool2d instead.\n",
      "\n"
     ]
    }
   ],
   "source": [
    "from keras.models import load_model\n",
    "\n",
    "model = createModel()\n",
    "model.load_weights('model.h5')"
   ]
  },
  {
   "cell_type": "code",
   "execution_count": 6,
   "metadata": {},
   "outputs": [],
   "source": [
    "def load(filename: str):\n",
    "    img = image.load_img(filename, target_size = IMAGE_SIZE)\n",
    "    img = image.img_to_array(img)\n",
    "    img = np.expand_dims(img, axis = 0)\n",
    "    return img"
   ]
  },
  {
   "cell_type": "code",
   "execution_count": 7,
   "metadata": {},
   "outputs": [
    {
     "name": "stdout",
     "output_type": "stream",
     "text": [
      "WARNING:tensorflow:From /Library/Frameworks/Python.framework/Versions/3.7/lib/python3.7/site-packages/keras/backend/tensorflow_backend.py:422: The name tf.global_variables is deprecated. Please use tf.compat.v1.global_variables instead.\n",
      "\n",
      "That is a dog\n"
     ]
    }
   ],
   "source": [
    "img = load('dog.jpg')\n",
    "\n",
    "result = model.predict(img)\n",
    "\n",
    "if result[0][0] == 1:\n",
    "    print('That is a cat')\n",
    "else:\n",
    "    print('That is a dog')"
   ]
  },
  {
   "cell_type": "markdown",
   "metadata": {},
   "source": [
    "# Convert now to an ML model"
   ]
  },
  {
   "cell_type": "code",
   "execution_count": 11,
   "metadata": {},
   "outputs": [
    {
     "name": "stdout",
     "output_type": "stream",
     "text": [
      "0 : conv2d_1_input, <keras.engine.input_layer.InputLayer object at 0x12fd27d68>\n",
      "1 : conv2d_1, <keras.layers.convolutional.Conv2D object at 0x110717b00>\n",
      "2 : conv2d_1__activation__, <keras.layers.core.Activation object at 0x138c306d8>\n",
      "3 : batch_normalization_1, <keras.layers.normalization.BatchNormalization object at 0x12fd27e48>\n",
      "4 : max_pooling2d_1, <keras.layers.pooling.MaxPooling2D object at 0x103ee70b8>\n",
      "5 : conv2d_2, <keras.layers.convolutional.Conv2D object at 0x12fd97400>\n",
      "6 : conv2d_2__activation__, <keras.layers.core.Activation object at 0x138e80320>\n",
      "7 : batch_normalization_2, <keras.layers.normalization.BatchNormalization object at 0x12feb54a8>\n",
      "8 : max_pooling2d_2, <keras.layers.pooling.MaxPooling2D object at 0x12ff32668>\n",
      "9 : conv2d_3, <keras.layers.convolutional.Conv2D object at 0x12ffbb438>\n",
      "10 : conv2d_3__activation__, <keras.layers.core.Activation object at 0x138e806a0>\n",
      "11 : batch_normalization_3, <keras.layers.normalization.BatchNormalization object at 0x12ffdb908>\n",
      "12 : max_pooling2d_3, <keras.layers.pooling.MaxPooling2D object at 0x12fff9d30>\n",
      "13 : flatten_1, <keras.layers.core.Flatten object at 0x130091438>\n",
      "14 : dense_1, <keras.layers.core.Dense object at 0x130075b38>\n",
      "15 : dense_1__activation__, <keras.layers.core.Activation object at 0x138e806d8>\n",
      "16 : batch_normalization_4, <keras.layers.normalization.BatchNormalization object at 0x130165898>\n",
      "17 : dense_2, <keras.layers.core.Dense object at 0x130206358>\n",
      "18 : dense_2__activation__, <keras.layers.core.Activation object at 0x138e80710>\n",
      "\n",
      "\n",
      "Recommendation: This model has at least one multiarray input/output of type double.\n",
      "For large sized arrays, multiarrays of type float32 are more efficient.\n",
      "In future, float input/output multiarrays will be produced by default by the converter.\n",
      "Please use, either the flag 'use_float_arraytype' during the call to convert or\n",
      "the utility 'coremltools.utils.convert_double_to_float_multiarray_type(spec)', post-conversion.\n",
      "\n",
      "\n"
     ]
    }
   ],
   "source": [
    "import coremltools\n",
    "\n",
    "new_model = coremltools.converters.keras.convert(model,\n",
    "    input_names=\"image\",\n",
    "    image_input_names=\"image\",\n",
    "    image_scale=1/255.0)"
   ]
  },
  {
   "cell_type": "markdown",
   "metadata": {},
   "source": [
    "# Save new ML model"
   ]
  },
  {
   "cell_type": "code",
   "execution_count": 12,
   "metadata": {},
   "outputs": [],
   "source": [
    "new_model.save('cat_dog.mlmodel')"
   ]
  }
 ],
 "metadata": {
  "kernelspec": {
   "display_name": "Python 3",
   "language": "python",
   "name": "python3"
  },
  "language_info": {
   "codemirror_mode": {
    "name": "ipython",
    "version": 3
   },
   "file_extension": ".py",
   "mimetype": "text/x-python",
   "name": "python",
   "nbconvert_exporter": "python",
   "pygments_lexer": "ipython3",
   "version": "3.7.0"
  }
 },
 "nbformat": 4,
 "nbformat_minor": 1
}
